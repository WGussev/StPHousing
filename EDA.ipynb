{
 "cells": [
  {
   "cell_type": "code",
   "execution_count": null,
   "metadata": {},
   "outputs": [],
   "source": [
    "import pandas as pd"
   ]
  },
  {
   "cell_type": "code",
   "execution_count": null,
   "metadata": {},
   "outputs": [],
   "source": [
    "import geocoder"
   ]
  },
  {
   "cell_type": "code",
   "execution_count": null,
   "metadata": {},
   "outputs": [],
   "source": [
    "stp = geocoder.osm('Санкт-Петербург')"
   ]
  },
  {
   "cell_type": "code",
   "execution_count": null,
   "metadata": {},
   "outputs": [],
   "source": [
    "stp.geojson"
   ]
  },
  {
   "cell_type": "code",
   "execution_count": null,
   "metadata": {},
   "outputs": [],
   "source": [
    "import time\n",
    "from tqdm import tqdm_notebook"
   ]
  },
  {
   "cell_type": "code",
   "execution_count": null,
   "metadata": {},
   "outputs": [],
   "source": [
    "df = pd.read_csv('open_stp_data.csv')"
   ]
  },
  {
   "cell_type": "code",
   "execution_count": null,
   "metadata": {},
   "outputs": [],
   "source": [
    "VO = df[df['addr_street'].str.contains('линия')]"
   ]
  },
  {
   "cell_type": "code",
   "execution_count": null,
   "metadata": {},
   "outputs": [],
   "source": [
    "VO[VO['addr_building'].isna() != True]"
   ]
  },
  {
   "cell_type": "code",
   "execution_count": null,
   "metadata": {},
   "outputs": [],
   "source": [
    "VI_LINES = {1: ('1-я линия В.О.',),\n",
    "2: ('2-3-я линии В.О.',),\n",
    "3: ('2-3-я линии В.О.',),\n",
    "4: ('4-5-я линии В.О.',),\n",
    "5: ('4-5-я линии В.О.',),\n",
    "6: ('6-я линия В.О.', '6-7-я линии В.О.'),\n",
    "7: ('7-я линия В.О.', '6-7-я линии В.О.'),\n",
    "8: ('8-я линия В.О.',), \n",
    "9: ('9-я линия В.О.',),\n",
    "10: ('10-11-я линии В.О.',),\n",
    "11: ('10-11-я линии В.О.',),\n",
    "12: ('12-13-я линии В.О.',),\n",
    "13: ('12-13-я линии В.О.',),\n",
    "14: ('14-я линия В.О.', '14-15-я линии В.О.'),\n",
    "15: ('15-я линия В.О.', '14-15-я линии В.О.'),\n",
    "16: ('16-я линия В.О.', '16-17-я линии В.О.'),\n",
    "17: ('17-я линия В.О.', '16-17-я линии В.О.'),\n",
    "18: ('18-19-я линии В.О.',),\n",
    "19: ('18-19-я линии В.О.',),\n",
    "20: ('20-21-я линии В.О.',),\n",
    "21: ('20-21-я линии В.О.',),\n",
    "22: ('22-23-я линии В.О.',),\n",
    "23: ('22-23-я линии В.О.',),\n",
    "24: ('24-25-я линии В.О.',),\n",
    "25: ('24-25-я линии В.О.',),\n",
    "26: ('26-27-я линии В.О.',),\n",
    "27: ('26-27-я линии В.О.',)}"
   ]
  },
  {
   "cell_type": "code",
   "execution_count": null,
   "metadata": {},
   "outputs": [],
   "source": [
    "VI_LINES"
   ]
  },
  {
   "cell_type": "markdown",
   "metadata": {},
   "source": [
    "1\n",
    "2-3\n",
    "4-5\n",
    "6-7 (6, 7)\n",
    "8\n",
    "9\n",
    "10-11\n",
    "12-13\n",
    "14-15 (14, 15)\n",
    "16-17 (16, 17)\n",
    "18-19\n",
    "20-21\n",
    "22-23\n",
    "24-25\n",
    "26-27"
   ]
  },
  {
   "cell_type": "code",
   "execution_count": null,
   "metadata": {},
   "outputs": [],
   "source": [
    "import re"
   ]
  },
  {
   "cell_type": "code",
   "execution_count": null,
   "metadata": {},
   "outputs": [],
   "source": [
    "def loc_VO(string):\n",
    "    try:\n",
    "        string = re.sub(',', '', string)\n",
    "        return VI_LINES[int(re.search('\\d+', string).group(0))]\n",
    "    except AttributeError:\n",
    "        return (string.split(' ')[0] + ' линия В.О.', )"
   ]
  },
  {
   "cell_type": "code",
   "execution_count": null,
   "metadata": {},
   "outputs": [],
   "source": [
    "loc_VO('16-я линия, В.О.')"
   ]
  },
  {
   "cell_type": "code",
   "execution_count": null,
   "metadata": {},
   "outputs": [],
   "source": [
    "df['searchable'] = df.apply(lambda x: full_address(loc_VO(x.['locality'], str(x['addr_number']), str(x['addr_building'])), axis=1)"
   ]
  },
  {
   "cell_type": "code",
   "execution_count": null,
   "metadata": {},
   "outputs": [],
   "source": [
    "def line_address(locality, number, building):\n",
    "    if building == 'nan':\n",
    "        return 'Санкт-Петербург, ' + locality + ' ' + number\n",
    "    else:\n",
    "        return 'Санкт-Петербург, ' + locality + ' ' + number + ' к' + building"
   ]
  },
  {
   "cell_type": "code",
   "execution_count": null,
   "metadata": {},
   "outputs": [],
   "source": [
    "def standartize_address(street):\n",
    "    \n",
    "    shorthands = {'ул.': 'улица', \n",
    "                    'пр.': 'проспект',\n",
    "                    'ш.': 'шоссе',\n",
    "                    'пер.': 'переулок',\n",
    "                    'бульв.': 'бульвар',\n",
    "                    'наб.': 'набережная'}\n",
    "    \n",
    "    locality = None\n",
    "    street = street.split(',')\n",
    "    if len(street) == 2:\n",
    "        locality = street[0]\n",
    "        street = street[1]\n",
    "    else:\n",
    "        street = street[0]\n",
    "    street = street.split(' ')\n",
    "    if len(street) <= 1:\n",
    "        return(street[0])\n",
    "    else:\n",
    "        status = street[-1]\n",
    "        if status.lower() in shorthands:\n",
    "            status = shorthands[status.lower()]\n",
    "        if street[-2][-2:] in 'ая ий ый ое':\n",
    "            if locality is not None:\n",
    "                return ' '.join((locality + ',', ' '.join(street[:-1]), status))\n",
    "            else:\n",
    "                return ' '.join((' '.join(street[:-1]), status))\n",
    "        else:\n",
    "            if locality is not None:\n",
    "                return ' '.join((locality + ',', status, ' '.join(street[0:-2]), street[-2]))\n",
    "            else:\n",
    "                return ' '.join((status, ' '.join(street[0:-2]), street[-2]))"
   ]
  },
  {
   "cell_type": "code",
   "execution_count": null,
   "metadata": {},
   "outputs": [],
   "source": [
    "def full_address(locality, number, building):\n",
    "    if building == 'nan':\n",
    "        return 'Санкт-Петербург, ' + locality + ' ' + number\n",
    "    else:\n",
    "        return 'Санкт-Петербург, ' + locality + ' ' + number + ' к' + building"
   ]
  },
  {
   "cell_type": "code",
   "execution_count": null,
   "metadata": {},
   "outputs": [],
   "source": [
    "for index, row in VO.iterrows():\n",
    "    for locality in loc_VO(row['addr_street']):\n",
    "        number = row['addr_number']\n",
    "        building = row['addr_building']\n",
    "        address = full_address(locality, str(number), str(building))"
   ]
  },
  {
   "cell_type": "code",
   "execution_count": null,
   "metadata": {},
   "outputs": [],
   "source": [
    "import csv\n",
    "with open('VI.csv', 'a') as csvfile:\n",
    "    writer = csv.writer(csvfile, delimiter=',',\n",
    "                        quotechar='|', quoting=csv.QUOTE_MINIMAL)\n",
    "    \n",
    "    for num, (index, row) in enumerate(VO.iterrows()):\n",
    "        print(num)\n",
    "        for locality in loc_VO(row['addr_street']):\n",
    "            time.sleep(1)\n",
    "            try:\n",
    "                number = row['addr_number']\n",
    "                building = row['addr_building']\n",
    "                address = full_address(locality, str(number), str(building))\n",
    "                g = geocoder.osm(address)\n",
    "                if g.status == 'OK':\n",
    "                    coords = (index, address, g.latlng[0], g.latlng[1])\n",
    "                    print(coords)\n",
    "                    writer.writerow(coords)\n",
    "                    break\n",
    "                else:\n",
    "                    print()\n",
    "            except Exception:\n",
    "                print('ERROR', index, locality)\n",
    "            "
   ]
  },
  {
   "cell_type": "code",
   "execution_count": null,
   "metadata": {},
   "outputs": [],
   "source": [
    "df['locality'] = df['addr_street'].map(standartize_address)"
   ]
  },
  {
   "cell_type": "code",
   "execution_count": null,
   "metadata": {},
   "outputs": [],
   "source": [
    "VO['searchable'] = VO.apply(lambda x: full_address(loc_VO(x['addr_street']), str(x['addr_number']), str(x['addr_building'])), axis=1)"
   ]
  },
  {
   "cell_type": "code",
   "execution_count": null,
   "metadata": {},
   "outputs": [],
   "source": []
  },
  {
   "cell_type": "code",
   "execution_count": null,
   "metadata": {},
   "outputs": [],
   "source": [
    "g = geocoder.osm('Санкт-Петербургб фыва')\n",
    "g.status"
   ]
  },
  {
   "cell_type": "code",
   "execution_count": null,
   "metadata": {},
   "outputs": [],
   "source": []
  },
  {
   "cell_type": "code",
   "execution_count": null,
   "metadata": {},
   "outputs": [],
   "source": [
    "import csv\n",
    "with open('coordinates2.csv', 'a') as csvfile:\n",
    "    writer = csv.writer(csvfile, delimiter=',',\n",
    "                        quotechar='|', quoting=csv.QUOTE_MINIMAL)\n",
    "    for address in tqdm_notebook(zip(df['searchable'][4372:], df.index[4372:])):\n",
    "        try:\n",
    "            g = geocoder.osm(address[0])\n",
    "            if g.status == 'OK':\n",
    "                coords = (address[1], g.latlng[0], g.latlng[1])\n",
    "            else:\n",
    "                coords = (address[1], None, None)\n",
    "            time.sleep(1)\n",
    "            writer.writerow(coords)\n",
    "        except Exception:\n",
    "            pass"
   ]
  },
  {
   "cell_type": "code",
   "execution_count": null,
   "metadata": {},
   "outputs": [],
   "source": [
    "for i in zip(df['searchable'], df.index):\n",
    "    print(i)"
   ]
  },
  {
   "cell_type": "code",
   "execution_count": null,
   "metadata": {},
   "outputs": [],
   "source": [
    "df['searchable'][0]"
   ]
  },
  {
   "cell_type": "code",
   "execution_count": null,
   "metadata": {},
   "outputs": [],
   "source": [
    "a = [None,\n",
    " [59.8371606, 30.2628121],\n",
    " [59.86311185, 30.3760026393255],\n",
    " [59.8642619, 30.3898461760562],\n",
    " [59.7035591, 30.3608674008901],\n",
    " None,\n",
    " [59.7504734, 30.5888801267241],\n",
    " None,\n",
    " [59.9036119, 29.7696169],\n",
    " [60.0249241, 30.3817525],\n",
    " [59.7423442, 30.58989755],\n",
    " [59.9275836, 30.4125903],\n",
    " [59.8528132, 30.3114165],\n",
    " [59.8796156, 30.4337016104022],\n",
    " [59.8908475, 30.4281587],\n",
    " [59.99629555, 29.7642317527372],\n",
    " [59.74334865, 30.6046086],\n",
    " None,\n",
    " [59.91176595, 30.349100302754],\n",
    " [59.9179702, 30.3499406696604],\n",
    " None,\n",
    " [59.717854, 30.4060592],\n",
    " [59.9362189, 30.3676803],\n",
    " [59.9296829, 30.3507480065549],\n",
    " [59.91274655, 30.3508399965845],\n",
    " [59.9517114, 30.410437],\n",
    " [60.0063945, 30.4066724878941],\n",
    " [59.92449115, 30.3493128634555],\n",
    " [59.8994886, 30.3682884567568],\n",
    " [59.9001299, 30.3619947],\n",
    " [59.9441589, 30.3503358],\n",
    " None,\n",
    " None,\n",
    " [59.95670085, 30.411813],\n",
    " [59.91485055, 30.2989521073385],\n",
    " [59.8353306, 30.3917037365553],\n",
    " [59.74962175, 30.6065479785519],\n",
    " [59.83501975, 30.392958973801],\n",
    " [59.74819685, 30.6135747863541],\n",
    " [59.9403751, 30.4962290355362],\n",
    " [59.947037, 30.3823762],\n",
    " [60.0243176, 30.2416869986099],\n",
    " [59.9391854, 30.4793239],\n",
    " [59.9485886, 30.4812072539105],\n",
    " [59.95840535, 30.4104488127528],\n",
    " [59.9131809, 30.2954147],\n",
    " [59.9263417, 30.3053269963056],\n",
    " [59.933532, 30.2393263],\n",
    " [59.83765525, 30.204220478898],\n",
    " [59.9169766, 30.305427],\n",
    " None,\n",
    " None,\n",
    " [59.86013445, 30.24498485],\n",
    " [59.8579924, 30.2395216],\n",
    " [59.99752585, 29.7632663023832],\n",
    " None,\n",
    " None,\n",
    " [59.9022387, 30.2707897],\n",
    " [60.00525245, 30.2458204688005],\n",
    " [60.00112945, 30.2438787849814],\n",
    " [59.86697065, 30.4375364597524],\n",
    " None,\n",
    " [59.7337312, 30.07563345],\n",
    " [59.98359715, 30.3113735429746],\n",
    " [59.9828169, 30.3105342],\n",
    " [59.99523715, 30.314605331149],\n",
    " [59.8400397, 30.1766449316235],\n",
    " [59.9559682, 30.3051290128978],\n",
    " None,\n",
    " [60.02436625, 30.2920052],\n",
    " [59.8748216, 30.3011829643372],\n",
    " [59.88068195, 30.4723697394493],\n",
    " [59.8601483, 30.3268943703252],\n",
    " [60.0203177, 30.321585],\n",
    " None,\n",
    " [59.9893047, 30.3147250048941],\n",
    " [59.87311005, 30.4774082122105],\n",
    " [59.8700443, 29.8444771],\n",
    " [59.9245653, 30.3173009],\n",
    " None,\n",
    " [59.72980965, 30.4210766180108],\n",
    " [59.930162, 30.3499601],\n",
    " [59.91785965, 30.2929938033821],\n",
    " [59.9016395, 30.4252848],\n",
    " [59.95189345, 30.4145691448982],\n",
    " [59.83355765, 30.1516957749324],\n",
    " [60.03231565, 30.419415651008],\n",
    " [59.9952346, 29.7645067],\n",
    " [59.9922424, 29.7611233327738],\n",
    " [59.72685445, 30.4224172],\n",
    " [59.87694995, 30.2765652715838],\n",
    " [59.98570475, 30.2791587164922],\n",
    " [59.9951923, 29.7605425],\n",
    " [59.92523745, 30.4225420217657],\n",
    " [59.74829335, 30.5639815054703],\n",
    " [59.900647, 30.3697858],\n",
    " [59.788558, 30.1472063],\n",
    " [59.95053115, 30.4162297697019],\n",
    " [60.00117115, 29.7570686704303],\n",
    " [59.9767734, 30.4208794967604]]"
   ]
  },
  {
   "cell_type": "code",
   "execution_count": null,
   "metadata": {},
   "outputs": [],
   "source": [
    "! pip install matplotlib"
   ]
  },
  {
   "cell_type": "code",
   "execution_count": null,
   "metadata": {},
   "outputs": [],
   "source": [
    "import matplotlib.pyplot as plt"
   ]
  },
  {
   "cell_type": "code",
   "execution_count": null,
   "metadata": {},
   "outputs": [],
   "source": [
    "aa = [elem  for elem in a if elem is not None]"
   ]
  },
  {
   "cell_type": "code",
   "execution_count": null,
   "metadata": {},
   "outputs": [],
   "source": [
    "x = [a[0] for a in aa]\n",
    "y = [a[1] for a in aa]"
   ]
  },
  {
   "cell_type": "code",
   "execution_count": null,
   "metadata": {},
   "outputs": [],
   "source": [
    "plt.plot(x, y, lw=0, marker='o')"
   ]
  },
  {
   "cell_type": "code",
   "execution_count": null,
   "metadata": {},
   "outputs": [],
   "source": [
    "! pip install tqdm"
   ]
  },
  {
   "cell_type": "code",
   "execution_count": null,
   "metadata": {},
   "outputs": [],
   "source": []
  }
 ],
 "metadata": {
  "kernelspec": {
   "display_name": "Python 3",
   "language": "python",
   "name": "python3"
  },
  "language_info": {
   "codemirror_mode": {
    "name": "ipython",
    "version": 3
   },
   "file_extension": ".py",
   "mimetype": "text/x-python",
   "name": "python",
   "nbconvert_exporter": "python",
   "pygments_lexer": "ipython3",
   "version": "3.6.9"
  }
 },
 "nbformat": 4,
 "nbformat_minor": 2
}
